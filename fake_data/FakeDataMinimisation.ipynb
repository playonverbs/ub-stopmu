{
 "cells": [
  {
   "cell_type": "code",
   "execution_count": null,
   "metadata": {},
   "outputs": [],
   "source": [
    "%matplotlib inline\n",
    "#%pylab\n",
    "import matplotlib\n",
    "import matplotlib.pyplot as plt\n",
    "import matplotlib.colors as mpc\n",
    "import matplotlib.dates as dts\n",
    "import numpy as np\n",
    "import pandas as pd\n",
    "import itertools\n",
    "import os\n",
    "import ROOT\n",
    "import datetime\n",
    "from root_numpy import root2array, root2rec, tree2rec, array2root\n",
    "from scipy.optimize import curve_fit\n",
    "from scipy.misc import factorial"
   ]
  },
  {
   "cell_type": "code",
   "execution_count": null,
   "metadata": {},
   "outputs": [],
   "source": [
    "FIGPATH = \"./figs/tagged/\"\n",
    "# FIGPATH = \"./figs/no-cali/tagged/\"\n",
    "PLOTSTATUS = \"[Fake Data]\"\n",
    "# PLOTSTATUS = \"[Run4a EXT No eLifetime.]\"\n",
    "\n",
    "# truncated last bin to use for Landau-Gaussian fit range tweaking.\n",
    "FIT_TRUNC = None\n",
    "# FIT_TRUNC = 20\n",
    "print  min(np.linspace(1,6.0,50)[0:FIT_TRUNC]), \" \" ,max(np.linspace(1, 6.0, 50)[0:FIT_TRUNC])"
   ]
  },
  {
   "cell_type": "code",
   "execution_count": null,
   "metadata": {},
   "outputs": [],
   "source": [
    "plt.rcParams.update({\"font.size\": 18})\n",
    "# matplotlib.rcParams['backend'] = 'cairo'"
   ]
  },
  {
   "cell_type": "code",
   "execution_count": null,
   "metadata": {},
   "outputs": [],
   "source": [
    "from ELOSS import dpdx as DPDX\n",
    "from ELOSS import dedx as DEDX"
   ]
  },
  {
   "cell_type": "code",
   "execution_count": null,
   "metadata": {},
   "outputs": [],
   "source": [
    "from scipy.interpolate import spline\n",
    "\n",
    "pdg_rr_v = []\n",
    "pdg_dedx_v = []\n",
    "pdg_ke_v = []\n",
    "pdg_rr_fit_v = []\n",
    "pdg_dedx_fit_v = []\n",
    "pdg_ke_fit_v = []\n",
    "\n",
    "# fin = open('/home/david/Neutrinos/StopMuCalibration/mutable.txt')\n",
    "fin = open('./data/mutable.txt')\n",
    "rho = 1.396\n",
    "\n",
    "for line in fin:\n",
    "    words = line.split()\n",
    "    pdg_rr_v.append(   float(words[-1])/rho )\n",
    "    pdg_dedx_v.append( float(words[2]) *rho )\n",
    "    pdg_ke_v.append(   float(words[0])      )\n",
    "\n",
    "\n",
    "pdg_rr_fit_v   = np.linspace(1,1000,1000)\n",
    "pdg_dedx_fit_v = spline(pdg_rr_v,pdg_dedx_v,pdg_rr_fit_v)\n",
    "pdg_ke_fit_v = spline(pdg_rr_v,pdg_ke_v,pdg_rr_fit_v)\n",
    "\n",
    "\n",
    "# fiven a RR value, get the energy\n",
    "def ERange(RR):\n",
    "    for i in xrange(len(pdg_rr_fit_v)):\n",
    "        if (RR <= pdg_rr_fit_v[i]):\n",
    "            return pdg_ke_fit_v[i]              \n",
    "    return -1\n",
    "\n",
    "print ERange(100.)"
   ]
  },
  {
   "cell_type": "code",
   "execution_count": null,
   "metadata": {},
   "outputs": [],
   "source": [
    "#df = pd.read_pickle('stopmu.pkl')\n",
    "#df = pd.read_pickle('stopmu_data_mcc83.pkl') # data\n",
    "data = pd.read_csv('stopmu_mcc9_data.csv',sep='\\t')\n",
    "print data.shape"
   ]
  },
  {
   "cell_type": "code",
   "execution_count": null,
   "metadata": {},
   "outputs": [],
   "source": [
    "data.columns = [\"rr\", \"dqdx\", \"pitch\", \"px\", \"py\", \"pz\"]"
   ]
  },
  {
   "cell_type": "code",
   "execution_count": null,
   "metadata": {},
   "outputs": [],
   "source": [
    "fig = plt.figure(figsize=(12, 6))\n",
    "BINS = (np.linspace(0, 250, 100), np.linspace(150, 500, 100))\n",
    "plt.hist2d(data[\"rr\"].values, data[\"dqdx\"].values, bins=BINS)\n",
    "plt.grid()\n",
    "plt.xlabel(\"Residual Range [cm]\", fontsize=20, fontweight=\"bold\")\n",
    "plt.ylabel(\"dQ/dx [ADC / cm]\", fontsize=20, fontweight=\"bold\")\n",
    "# plt.title('Tagged Stopping Muon Profile [MC Cosmics]',fontsize=20,fontweight='bold')\n",
    "plt.title(\n",
    "    \"Tagged Stopping Muon Profile [DATA]\", fontsize=18, fontweight=\"bold\", loc=\"left\"\n",
    ")\n",
    "plt.title(PLOTSTATUS, fontsize=14, loc=\"right\")\n",
    "plt.savefig(FIGPATH + \"stopping_mu_rr_profile.pdf\", bbox_inches=\"tight\")\n",
    "plt.savefig(FIGPATH + \"stopping_mu_rr_profile.png\", bbox_inches=\"tight\")\n",
    "plt.show()"
   ]
  },
  {
   "cell_type": "code",
   "execution_count": null,
   "metadata": {},
   "outputs": [],
   "source": [
    "# invert Recombination Modified Box Model to get dE/dx from dQ/dx\n",
    "\n",
    "# argon density [g/cm^3]\n",
    "rho = 1.396\n",
    "# electric field [kV/cm]\n",
    "efield = 0.273\n",
    "# ionization energy [MeV/e]\n",
    "Wion = 23.6 * (10 ** (-6))\n",
    "\n",
    "fModBoxA = 0.93\n",
    "fModBoxB = 0.562\n",
    "\n",
    "\n",
    "def ModBoxInverse(dqdx):\n",
    "    dedx = (np.exp(fModBoxB * Wion * dqdx) - fModBoxA) / fModBoxB\n",
    "    return dedx"
   ]
  },
  {
   "cell_type": "code",
   "execution_count": null,
   "metadata": {},
   "outputs": [],
   "source": [
    "def dEdx(x, elecgain):\n",
    "    dqdx = x[\"dqdx\"] * elecgain\n",
    "    return ModBoxInverse(dqdx)"
   ]
  },
  {
   "cell_type": "code",
   "execution_count": null,
   "metadata": {},
   "outputs": [],
   "source": [
    "# fin = open('/home/david/Neutrinos/StopMuCalibration/mutable.txt')\n",
    "fin = open(\"./data/mutable.txt\")\n",
    "rho = 1.396\n",
    "pdg_rr_v = []\n",
    "pdg_dedx_v = []\n",
    "for line in fin:\n",
    "    words = line.split()\n",
    "    pdg_rr_v.append(float(words[-1]) / rho)\n",
    "    pdg_dedx_v.append(float(words[2]) * rho)"
   ]
  },
  {
   "cell_type": "code",
   "execution_count": null,
   "metadata": {},
   "outputs": [],
   "source": [
    "from scipy.interpolate import spline\n",
    "\n",
    "pdg_rr_fit_v = np.linspace(1, 1000, 1000)\n",
    "pdg_dedx_fit_v = spline(pdg_rr_v, pdg_dedx_v, pdg_rr_fit_v)"
   ]
  },
  {
   "cell_type": "code",
   "execution_count": null,
   "metadata": {},
   "outputs": [],
   "source": [
    "# pylandau from https://github.com/SiLab-Bonn/pylandau\n",
    "from pylandau import langau\n",
    "from scipy.optimize import curve_fit\n",
    "\n",
    "guess = [4.0, 0.2, 0.2]  # MPV, Landau sigma, gauss sigma in that order\n",
    "\n",
    "\n",
    "def GL(x_v, mpv, sL, sG, A):\n",
    "    return A * langau(x_v * 100.0, mpv * 100, sL * 100, sG * 100)"
   ]
  },
  {
   "cell_type": "markdown",
   "metadata": {},
   "source": [
    "Compute and minimise $\\chi^2$ as a function of electronics gain. Described as:\n",
    "$$\n",
    "        \\chi^2 = \\frac{1}{N} \\frac{\\mbox{(MPV theory - MPV measured (gain))}^2}{\\sigma^2}\n",
    "$$"
   ]
  },
  {
   "cell_type": "code",
   "execution_count": null,
   "metadata": {},
   "outputs": [],
   "source": [
    "# calculate chi^2 of PDG - data as a function of electronics gain applied\n",
    "\n",
    "elec_gain = np.linspace(230,250,20) # nominal run 4a range\n",
    "# elec_gain = np.linspace(240,260,20) # no e-lifetime range\n",
    "# elec_gain = np.linspace(250,270,20)\n",
    "chisq_v  = []\n",
    "\n",
    "rr_ranges = np.linspace(100,150,10)\n",
    "\n",
    "BINS = np.linspace(1,6.0,100)\n",
    "# BINS = np.linspace(1,6.0,50)\n",
    "\n",
    "datafit = data.query('rr > 100 and rr < 150 and pitch > 0.3 and pitch < 0.4 and px < 0.2 and px >-0.2')\n",
    "print datafit.shape\n",
    "\n",
    "for elecgain in elec_gain:\n",
    "    \n",
    "    datafit['dedx'] = datafit.apply(lambda x : dEdx(x,elecgain),axis=1)\n",
    "    \n",
    "    chilocal = 0.\n",
    "    \n",
    "    for n in xrange(len(rr_ranges)-1):\n",
    "        \n",
    "        rrmin = rr_ranges[n]\n",
    "        rrmax = rr_ranges[n+1]\n",
    "        \n",
    "        if (n == 1) or (n == 3):\n",
    "#             print \"skipping\"\n",
    "            continue\n",
    "        \n",
    "        rravg = 0.5*(rrmax+rrmin)\n",
    "        \n",
    "        dftmp = datafit.query('rr > %i and rr < %i'%(rrmin,rrmax))\n",
    "        \n",
    "        dedx_v = dftmp['dedx'].values\n",
    "    \n",
    "        vals,bine = np.histogram(dedx_v,bins=BINS)\n",
    "        binc = 0.5*(bine[1:]+bine[:-1])\n",
    "        guess = [1.8,0.1,0.1,30.]\n",
    "#         popt,popv = curve_fit(GL,binc,vals,p0=guess,bounds=([1.2,0.02,0.02,1],[4.0,0.3,0.3,200]))#,sigma=np.sqrt(vals),absolute_sigma=True)\n",
    "        popt,popv = curve_fit(GL,binc[0:FIT_TRUNC],vals[0:FIT_TRUNC],p0=guess,bounds=([1.2,0.02,0.02,1],[4.0,0.3,0.3,200]))#,sigma=np.sqrt(vals),absolute_sigma=True)\n",
    "\n",
    "        mpv_data = popt[0]\n",
    "        mpv_err  = np.sqrt(np.diag(popv))[0]\n",
    "        \n",
    "        #print 'norm : %f and N entries : %i'%(popt[-1],dftmp.shape[0])\n",
    "        \n",
    "        mpv_theory = DPDX(ERange(rravg),0.35,105.6)\n",
    "        \n",
    "        #print '\\t @ gain %i w/ RR %.0f ->  MPV measured : %.02f \\t theory : %.02f \\t err : %.02f'\\\n",
    "        #%(elecgain,rravg,mpv_data,mpv_theory,mpv_err)\n",
    "        \n",
    "        chilocal += ( (mpv_data-mpv_theory)**2 ) / (mpv_err**2 + 0.015**2 + 0.01**2)\n",
    "        \n",
    "    print 'Gain = %.02f -> chisq = %.02f'%(elecgain,chilocal)\n",
    "    \n",
    "    chisq_v.append(chilocal/float(len(rr_ranges)-1.))"
   ]
  },
  {
   "cell_type": "code",
   "execution_count": null,
   "metadata": {
    "tags": []
   },
   "outputs": [],
   "source": [
    "chi_min = 100000.\n",
    "gain_min = 0.\n",
    "for i,chi in enumerate(chisq_v):\n",
    "    \n",
    "    if (chi < chi_min):\n",
    "        \n",
    "        chi_min  = chi\n",
    "        gain_min = elec_gain[i]\n",
    "\n",
    "\n",
    "fig = plt.figure(figsize=(10,6))\n",
    "\n",
    "min1sigma = 1000\n",
    "max1sigma = 0\n",
    "for i,g in enumerate(elec_gain):\n",
    "    chi = chisq_v[i]\n",
    "    chidiff = chi - chi_min\n",
    "    if (chidiff < 1):\n",
    "        if (g > max1sigma): max1sigma = g\n",
    "        if (g < min1sigma): min1sigma = g\n",
    "\n",
    "plt.plot(elec_gain,chisq_v,'bo--')\n",
    "plt.xlabel('Electronics Gain [$e^-$/ADC]',fontsize=20,fontweight='bold')\n",
    "plt.ylabel('$\\chi^2$ / d.o.f.',fontsize=20,fontweight='bold')\n",
    "plt.axvline(gain_min,color='k',lw=3,label='$\\chi^2$ = %.02f @ gain = %.01f $e^-$/ADC'%(chi_min,gain_min))\n",
    "plt.title(PLOTSTATUS, loc=\"right\", fontsize=14)\n",
    "plt.grid()\n",
    "# plt.title(\"MicroBooNE Preliminary Run4a Data\", loc=\"right\", color=\"darkgrey\")\n",
    "# plt.xlim([245,257])\n",
    "# plt.ylim([0,30])\n",
    "# plt.ylim([0,15])\n",
    "plt.axhspan(chi_min,chi_min+1,color='k',alpha=0.2,label='+1 $\\sigma$ interval : [%.01f,%.01f]'%(min1sigma,max1sigma))\n",
    "plt.legend(loc=1,fontsize=18)\n",
    "plt.savefig(FIGPATH + \"chi2_v_egain.png\",bbox_inches='tight')\n",
    "plt.savefig(FIGPATH + \"chi2_v_egain.pdf\",bbox_inches='tight')\n",
    "\n",
    "# plt.savefig(FIGPATH + \"chi2_v_egain_clipped.png\",bbox_inches='tight')\n",
    "# plt.savefig(FIGPATH + \"chi2_v_egain_clipped.pdf\",bbox_inches='tight')\n",
    "plt.show()\n",
    "print gain_min"
   ]
  },
  {
   "cell_type": "code",
   "execution_count": null,
   "metadata": {},
   "outputs": [],
   "source": [
    "data[\"dedx\"] = data.apply(lambda x: dEdx(x, gain_min), axis=1)"
   ]
  },
  {
   "cell_type": "code",
   "execution_count": null,
   "metadata": {},
   "outputs": [],
   "source": [
    "print(data[\"rr\"].min(), data[\"rr\"].max())"
   ]
  },
  {
   "cell_type": "code",
   "execution_count": null,
   "metadata": {},
   "outputs": [],
   "source": [
    "fig = plt.figure(figsize=(10, 6))\n",
    "BINS = (np.linspace(0, 150, 100), np.linspace(1, 4, 100))\n",
    "plt.hist2d(data[\"rr\"].values, data[\"dedx\"].values, bins=BINS)\n",
    "plt.grid()\n",
    "plt.xlabel(\"Residual Range [cm]\", fontsize=18, fontweight=\"bold\")\n",
    "plt.ylabel(\"dE/dx [MeV / cm]\", fontsize=18, fontweight=\"bold\")\n",
    "plt.title(\n",
    "    \"Tagged Stopping Muon Profile\", fontsize=18, fontweight=\"bold\", loc=\"left\"\n",
    ")\n",
    "plt.title(PLOTSTATUS, fontsize=14, loc=\"right\")\n",
    "plt.savefig(FIGPATH + \"rr_v_dqdx.png\", bbox_inches=\"tight\")\n",
    "plt.show()"
   ]
  }
 ],
 "metadata": {
  "kernelspec": {
   "display_name": "Python 2",
   "language": "python",
   "name": "python2"
  },
  "language_info": {
   "codemirror_mode": {
    "name": "ipython",
    "version": 2
   },
   "file_extension": ".py",
   "mimetype": "text/x-python",
   "name": "python",
   "nbconvert_exporter": "python",
   "pygments_lexer": "ipython2",
   "version": "2.7.18"
  }
 },
 "nbformat": 4,
 "nbformat_minor": 2
}

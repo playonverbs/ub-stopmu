{
 "cells": [
  {
   "cell_type": "code",
   "execution_count": null,
   "metadata": {},
   "outputs": [],
   "source": [
    "%matplotlib inline\n",
    "#%pylab\n",
    "import matplotlib\n",
    "import matplotlib.pyplot as plt\n",
    "import matplotlib.colors as mpc\n",
    "import matplotlib.dates as dts\n",
    "import numpy as np\n",
    "import pandas as pd\n",
    "import itertools\n",
    "import os\n",
    "import datetime\n",
    "from scipy.optimize import curve_fit\n",
    "from scipy.misc import factorial"
   ]
  },
  {
   "cell_type": "code",
   "execution_count": null,
   "metadata": {},
   "outputs": [],
   "source": [
    "plt.rcParams.update({\"font.size\": 14})"
   ]
  },
  {
   "cell_type": "code",
   "execution_count": null,
   "metadata": {},
   "outputs": [],
   "source": [
    "d = {\n",
    "    \"title\": [\n",
    "        \"EXT Run 1-2-3 (David C.)\",\n",
    "        \"EXT Run 4a reco2 Validation\\n(Feb22 CM)\",\n",
    "        \"EXT Run 4a reco2lite Epoch H no eLifetime\\n(May22 CM)\",\n",
    "        \"EXT Run 4a reco2lite Epoch H no eLifetime\\n(May22 CM update)\",\n",
    "    ],\n",
    "    \"value\": [243.7, 242.6, 243.7, 250.5],\n",
    "    \"low_err\": [242.1, 239.5, 231.1, 248.4],\n",
    "    \"high_err\": [246.1, 244.7, 248.9, 252.6],\n",
    "}\n",
    "\n",
    "df = pd.DataFrame(data=d)\n",
    "errs = zip(abs(df[\"low_err\"] - df[\"value\"]), abs(df[\"high_err\"] - df[\"value\"]))\n",
    "errs = np.asarray([list(x) for x in errs])"
   ]
  },
  {
   "cell_type": "code",
   "execution_count": null,
   "metadata": {},
   "outputs": [],
   "source": [
    "fig, ax = plt.subplots(figsize=(5, 8))\n",
    "ax.errorbar(d[\"title\"], d[\"value\"], yerr=errs.T, fmt=\"s\", capsize=5)\n",
    "ax.grid()\n",
    "ax.set_ylabel(\"Extracted Gain [$e^-$/ADC]\")"
   ]
  },
  {
   "cell_type": "code",
   "execution_count": null,
   "metadata": {},
   "outputs": [],
   "source": [
    "fig, ax = plt.subplots(figsize=(10, 4))\n",
    "ax.barh(d[\"title\"], d[\"value\"], xerr=errs.T, capsize=5, align=\"center\")\n",
    "ax.grid(axis=\"x\")\n",
    "ax.invert_yaxis()\n",
    "ax.set_xlabel(\"Extracted Gain [$e^-$/ADC]\")\n",
    "ax.set_xlim(230, 255)\n",
    "ax.set_title(\n",
    "    \"Absolute Gain Calibration\\nAcross Various Data Samples\", loc=\"left\", fontsize=14\n",
    ")\n",
    "ax.set_title(\"[MicroBooNE Internal]\", loc=\"right\", fontsize=14, fontweight=\"semibold\")\n",
    "plt.savefig(\"./all-sample-gains.png\", bbox_inches=\"tight\")\n",
    "plt.savefig(\"./all-sample-gains.pdf\", bbox_inches=\"tight\")"
   ]
  },
  {
   "cell_type": "code",
   "execution_count": null,
   "metadata": {},
   "outputs": [],
   "source": []
  }
 ],
 "metadata": {
  "kernelspec": {
   "display_name": "Python 2",
   "language": "python",
   "name": "python2"
  },
  "language_info": {
   "codemirror_mode": {
    "name": "ipython",
    "version": 2
   },
   "file_extension": ".py",
   "mimetype": "text/x-python",
   "name": "python",
   "nbconvert_exporter": "python",
   "pygments_lexer": "ipython2",
   "version": "2.7.18"
  }
 },
 "nbformat": 4,
 "nbformat_minor": 2
}

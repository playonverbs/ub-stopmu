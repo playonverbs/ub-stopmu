{
 "cells": [
  {
   "cell_type": "code",
   "execution_count": null,
   "metadata": {},
   "outputs": [],
   "source": [
    "%matplotlib inline\n",
    "#%pylab\n",
    "import matplotlib\n",
    "import matplotlib.pyplot as plt\n",
    "import matplotlib.colors as mpc\n",
    "import matplotlib.dates as dts\n",
    "import numpy as np\n",
    "import pandas as pd\n",
    "import itertools\n",
    "import os\n",
    "import ROOT\n",
    "import datetime\n",
    "from root_numpy import root2array, root2rec, tree2rec, array2root, tree2array\n",
    "from scipy.optimize import curve_fit\n",
    "from scipy.misc import factorial"
   ]
  },
  {
   "cell_type": "code",
   "execution_count": null,
   "metadata": {},
   "outputs": [],
   "source": [
    "plt.rcParams.update({\"font.size\": 14})"
   ]
  },
  {
   "cell_type": "code",
   "execution_count": null,
   "metadata": {},
   "outputs": [],
   "source": [
    "d = {'title':    [\"EXT Run 4a Validation\", \"EXT Run 1-2-3\", \"EXT Run 4a Vali. no eLifetime\"]\n",
    "    ,'value':    [242.6, 243.7, 243.7]\n",
    "    ,'low_err':  [239.5, 242.1, 231.1]\n",
    "    ,'high_err': [244.7, 246.1, 248.9]\n",
    "    }\n",
    "\n",
    "df = pd.DataFrame(data=d)\n",
    "errs = zip(abs(df['low_err'] - df['value']),\n",
    "           abs(df['high_err'] - df['value']))\n",
    "errs = np.asarray([list(x) for x in errs])"
   ]
  },
  {
   "cell_type": "code",
   "execution_count": null,
   "metadata": {},
   "outputs": [],
   "source": [
    "fig, ax = plt.subplots(figsize=(5,8))\n",
    "ax.errorbar(d['title'], d['value'], yerr=errs.T,\n",
    "            fmt=\"s\", capsize=5)\n",
    "ax.grid()\n",
    "ax.set_ylabel(\"Extracted Gain [$e^-$/ADC]\")"
   ]
  },
  {
   "cell_type": "code",
   "execution_count": null,
   "metadata": {},
   "outputs": [],
   "source": [
    "fig, ax = plt.subplots(figsize=(10,4))\n",
    "ax.barh(d['title'], d['value'], xerr=errs.T,\n",
    "        capsize=5, align='center')\n",
    "ax.grid(axis='x')\n",
    "ax.invert_yaxis()\n",
    "ax.set_xlabel(\"Extracted Gain [$e^-$/ADC]\")\n",
    "ax.set_xlim(230, 250)\n",
    "ax.set_title(\"Absolute Gain Calibration\\nAcross Various Data Samples\", loc=\"left\", fontsize=14)\n",
    "ax.set_title(\"[MicroBooNE Internal]\", loc=\"right\", fontsize=14, fontweight='semibold')"
   ]
  }
 ],
 "metadata": {
  "kernelspec": {
   "display_name": "Python 2",
   "language": "python",
   "name": "python2"
  },
  "language_info": {
   "codemirror_mode": {
    "name": "ipython",
    "version": 2
   },
   "file_extension": ".py",
   "mimetype": "text/x-python",
   "name": "python",
   "nbconvert_exporter": "python",
   "pygments_lexer": "ipython2",
   "version": "2.7.18"
  }
 },
 "nbformat": 4,
 "nbformat_minor": 2
}
